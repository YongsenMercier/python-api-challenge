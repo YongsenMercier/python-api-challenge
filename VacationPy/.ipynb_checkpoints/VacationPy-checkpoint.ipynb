{
 "cells": [
  {
   "cell_type": "code",
   "execution_count": null,
   "metadata": {},
   "outputs": [],
   "source": [
    "# importing dependencies\n",
    "%matplotlib notebook\n",
    "import matplotlib.pyplot as plt\n",
    "import pandas as pd\n",
    "import numpy as np\n",
    "import requests\n",
    "import time\n",
    "import json\n",
    "import gmaps\n",
    "import os\n",
    "\n",
    "# import openweather API key\n",
    "from Config import g_key"
   ]
  },
  {
   "cell_type": "code",
   "execution_count": null,
   "metadata": {},
   "outputs": [],
   "source": [
    "#importing the csv from part1\n",
    "path = \"../Resources/CityWeather.csv\"\n",
    "Vacation_DF = pd.read_csv(path, low_memory = False)"
   ]
  },
  {
   "cell_type": "code",
   "execution_count": null,
   "metadata": {},
   "outputs": [],
   "source": [
    "#putting api keys and locations&humidity\n",
    "gmaps.configure(api_key=g_key)\n",
    "locations = Vacation_DF[[\"Latitude\",\"Longitude\"]].astype(float)\n",
    "humidity = Vacation_DF[\"Humidity\"].astype(float)"
   ]
  },
  {
   "cell_type": "code",
   "execution_count": null,
   "metadata": {},
   "outputs": [],
   "source": [
    "# heatmaps for google\n",
    "fig = gmaps.figure()\n",
    "\n",
    "heat_layer = gmaps.heatmap_layer(locations, weights = humidity, dissipating=False, max_intensity=100, point_radius=1)\n",
    "\n",
    "fig.add_layer(heat_layer)\n",
    "\n",
    "fig"
   ]
  },
  {
   "cell_type": "code",
   "execution_count": null,
   "metadata": {},
   "outputs": [],
   "source": [
    "# now that the heatmap is working, we need to narrow down the dataframe for MY ideal weather condition for vacation.\n",
    "\n",
    "Hotel_df = Vacation_DF.loc[ (Vacation_DF[\"Max Temp\"]<77) & (Vacation_DF[\"Max Temp\"]>70) & (Vacation_DF[\"Wind Speed\"]<8)\n",
    "                           & (Vacation_DF[\"Cloudiness\"]==0)]\n"
   ]
  },
  {
   "cell_type": "code",
   "execution_count": null,
   "metadata": {},
   "outputs": [],
   "source": [
    "Hotel_df.head(15)"
   ]
  },
  {
   "cell_type": "code",
   "execution_count": null,
   "metadata": {},
   "outputs": [],
   "source": [
    "#creating an empty column for the hotel name\n",
    "Hotel_df[\"Hotel Name\"] = \"\""
   ]
  },
  {
   "cell_type": "code",
   "execution_count": null,
   "metadata": {},
   "outputs": [],
   "source": [
    "#setting up google parameters:\n",
    "parameters = {\"radius\":5000, \"types\":\"hotel\", \"keyword\":\"hotel\", \"key\":g_key}"
   ]
  },
  {
   "cell_type": "code",
   "execution_count": null,
   "metadata": {},
   "outputs": [],
   "source": [
    "# using locations to get the nearest hotels\n",
    "\n",
    "for index, x in Hotel_df.iterrows():\n",
    "    lat = x[\"Latitude\"]\n",
    "    long = x[\"Longitude\"]\n",
    "    \n",
    "    parameters[\"location\"] = f\"{lat},{long}\"\n",
    "    \n",
    "    url = \"https://maps.googleapis.com/maps/api/place/nearbysearch/json\"\n",
    "    \n",
    "    hotel_request = requests.get(url, params=parameters).json()\n",
    "    \n",
    "    try:\n",
    "        Hotel_df.loc[index, \"Hotel Name\"] = hotel_request[\"results\"][0][\"name\"]\n",
    "    except (KeyError, IndexError):\n",
    "        print(\"No Result. Skipped!!\")\n",
    "\n"
   ]
  },
  {
   "cell_type": "code",
   "execution_count": null,
   "metadata": {},
   "outputs": [],
   "source": [
    "#im not sure why, but the dropna does not work. so we can use iloc instead\n",
    "Hotel_df = Hotel_df.sort_values(\"Hotel Name\")\n",
    "Hotel_df = Hotel_df.iloc[3:16,:]"
   ]
  },
  {
   "cell_type": "code",
   "execution_count": null,
   "metadata": {},
   "outputs": [],
   "source": [
    "Hotel_df"
   ]
  },
  {
   "cell_type": "code",
   "execution_count": null,
   "metadata": {},
   "outputs": [],
   "source": [
    "info_box_template = \"\"\"\n",
    "<dl>\n",
    "<dt>Name</dt><dd>{Hotel Name}</dd>\n",
    "<dt>City</dt><dd>{City}</dd>\n",
    "<dt>Country</dt><dd>{Country}</dd>\n",
    "</dl>\n",
    "\"\"\"\n",
    "# Store the DataFrame Row\n",
    "\n",
    "hotel_info = [info_box_template.format(**row) for index, row in Hotel_df.iterrows()]\n",
    "hotel_locations = Hotel_df[[\"Latitude\", \"Longitude\"]]"
   ]
  },
  {
   "cell_type": "code",
   "execution_count": null,
   "metadata": {},
   "outputs": [],
   "source": [
    "#now we can add the hotel marker on top of the heatmap. yes!!!!\n",
    "\n",
    "hotel_layer = gmaps.marker_layer(hotel_locations, info_box_content = hotel_info )\n",
    "\n",
    "fig.add_layer(hotel_layer)\n",
    "\n",
    "fig"
   ]
  },
  {
   "cell_type": "code",
   "execution_count": null,
   "metadata": {},
   "outputs": [],
   "source": []
  }
 ],
 "metadata": {
  "kernelspec": {
   "display_name": "Python 3",
   "language": "python",
   "name": "python3"
  },
  "language_info": {
   "codemirror_mode": {
    "name": "ipython",
    "version": 3
   },
   "file_extension": ".py",
   "mimetype": "text/x-python",
   "name": "python",
   "nbconvert_exporter": "python",
   "pygments_lexer": "ipython3",
   "version": "3.7.6"
  }
 },
 "nbformat": 4,
 "nbformat_minor": 4
}
